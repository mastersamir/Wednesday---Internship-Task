{
 "cells": [
  {
   "cell_type": "markdown",
   "id": "f9548474",
   "metadata": {},
   "source": [
    "# Task Start Here"
   ]
  },
  {
   "cell_type": "code",
   "execution_count": 1,
   "id": "7b98ee98",
   "metadata": {},
   "outputs": [],
   "source": [
    "#importing libraries\n",
    "import numpy as np\n",
    "import pandas as pd\n",
    "from sklearn.preprocessing import LabelEncoder\n",
    "import matplotlib.pyplot as plt\n",
    "import seaborn as sns"
   ]
  },
  {
   "cell_type": "code",
   "execution_count": 2,
   "id": "20300821",
   "metadata": {},
   "outputs": [],
   "source": [
    "def print_bold(text):\n",
    "    print(\"\\033[1m\" + text + \"\\033[0m\")"
   ]
  },
  {
   "cell_type": "markdown",
   "id": "4ed1a210",
   "metadata": {},
   "source": [
    "# Step 1: Extracting Data from source"
   ]
  },
  {
   "cell_type": "markdown",
   "id": "363903cc",
   "metadata": {},
   "source": [
    "Extraction involves gathering data from diverse source systems and various tools and technologies facilitate this process.\n",
    "ETL tools such as Apache Nifi, Talend, and Informatica offer visual interfaces for designing data extraction workflows.\n",
    "\n",
    "Database management systems (DBMS) like Oracle, SQL Server, and MySQL often provide built-in features or tools for\n",
    "data extraction. Additionally, cloud-based services such as AWS Glue and Google Cloud Dataflow enable scalable and\n",
    "efficient extraction from cloud-based sources."
   ]
  },
  {
   "cell_type": "code",
   "execution_count": 3,
   "id": "505f69df",
   "metadata": {},
   "outputs": [],
   "source": [
    "data = pd.read_csv('insurance.csv') #data loading from local source"
   ]
  },
  {
   "cell_type": "code",
   "execution_count": 4,
   "id": "20c32a9b",
   "metadata": {},
   "outputs": [],
   "source": [
    "df=data.copy() #keeping original data for future comparison and using df for processing"
   ]
  },
  {
   "cell_type": "markdown",
   "id": "b4d00028",
   "metadata": {},
   "source": [
    "# Exporing Data"
   ]
  },
  {
   "cell_type": "code",
   "execution_count": 5,
   "id": "a2337261",
   "metadata": {},
   "outputs": [
    {
     "name": "stdout",
     "output_type": "stream",
     "text": [
      "\u001b[1mOriginal Data Table :\u001b[0m\n"
     ]
    },
    {
     "data": {
      "text/html": [
       "<div>\n",
       "<style scoped>\n",
       "    .dataframe tbody tr th:only-of-type {\n",
       "        vertical-align: middle;\n",
       "    }\n",
       "\n",
       "    .dataframe tbody tr th {\n",
       "        vertical-align: top;\n",
       "    }\n",
       "\n",
       "    .dataframe thead th {\n",
       "        text-align: right;\n",
       "    }\n",
       "</style>\n",
       "<table border=\"1\" class=\"dataframe\">\n",
       "  <thead>\n",
       "    <tr style=\"text-align: right;\">\n",
       "      <th></th>\n",
       "      <th>age</th>\n",
       "      <th>sex</th>\n",
       "      <th>bmi</th>\n",
       "      <th>children</th>\n",
       "      <th>smoker</th>\n",
       "      <th>region</th>\n",
       "      <th>charges</th>\n",
       "    </tr>\n",
       "  </thead>\n",
       "  <tbody>\n",
       "    <tr>\n",
       "      <th>0</th>\n",
       "      <td>19</td>\n",
       "      <td>female</td>\n",
       "      <td>27.900</td>\n",
       "      <td>0</td>\n",
       "      <td>yes</td>\n",
       "      <td>southwest</td>\n",
       "      <td>16884.92400</td>\n",
       "    </tr>\n",
       "    <tr>\n",
       "      <th>1</th>\n",
       "      <td>18</td>\n",
       "      <td>male</td>\n",
       "      <td>33.770</td>\n",
       "      <td>1</td>\n",
       "      <td>no</td>\n",
       "      <td>southeast</td>\n",
       "      <td>1725.55230</td>\n",
       "    </tr>\n",
       "    <tr>\n",
       "      <th>2</th>\n",
       "      <td>28</td>\n",
       "      <td>male</td>\n",
       "      <td>33.000</td>\n",
       "      <td>3</td>\n",
       "      <td>no</td>\n",
       "      <td>southeast</td>\n",
       "      <td>4449.46200</td>\n",
       "    </tr>\n",
       "    <tr>\n",
       "      <th>3</th>\n",
       "      <td>33</td>\n",
       "      <td>male</td>\n",
       "      <td>22.705</td>\n",
       "      <td>0</td>\n",
       "      <td>no</td>\n",
       "      <td>northwest</td>\n",
       "      <td>21984.47061</td>\n",
       "    </tr>\n",
       "    <tr>\n",
       "      <th>4</th>\n",
       "      <td>32</td>\n",
       "      <td>male</td>\n",
       "      <td>28.880</td>\n",
       "      <td>0</td>\n",
       "      <td>no</td>\n",
       "      <td>northwest</td>\n",
       "      <td>3866.85520</td>\n",
       "    </tr>\n",
       "  </tbody>\n",
       "</table>\n",
       "</div>"
      ],
      "text/plain": [
       "   age     sex     bmi  children smoker     region      charges\n",
       "0   19  female  27.900         0    yes  southwest  16884.92400\n",
       "1   18    male  33.770         1     no  southeast   1725.55230\n",
       "2   28    male  33.000         3     no  southeast   4449.46200\n",
       "3   33    male  22.705         0     no  northwest  21984.47061\n",
       "4   32    male  28.880         0     no  northwest   3866.85520"
      ]
     },
     "execution_count": 5,
     "metadata": {},
     "output_type": "execute_result"
    }
   ],
   "source": [
    "print_bold(\"Original Data Table :\")\n",
    "df.head()"
   ]
  },
  {
   "cell_type": "code",
   "execution_count": 6,
   "id": "f73cf40d",
   "metadata": {},
   "outputs": [
    {
     "name": "stdout",
     "output_type": "stream",
     "text": [
      "\u001b[1mOriginal Data Info:\n",
      "\u001b[0m\n",
      "<class 'pandas.core.frame.DataFrame'>\n",
      "RangeIndex: 1338 entries, 0 to 1337\n",
      "Data columns (total 7 columns):\n",
      " #   Column    Non-Null Count  Dtype  \n",
      "---  ------    --------------  -----  \n",
      " 0   age       1338 non-null   int64  \n",
      " 1   sex       1338 non-null   object \n",
      " 2   bmi       1338 non-null   float64\n",
      " 3   children  1338 non-null   int64  \n",
      " 4   smoker    1338 non-null   object \n",
      " 5   region    1338 non-null   object \n",
      " 6   charges   1338 non-null   float64\n",
      "dtypes: float64(2), int64(2), object(3)\n",
      "memory usage: 73.3+ KB\n",
      "None\n"
     ]
    }
   ],
   "source": [
    "print_bold(\"Original Data Info:\\n\")\n",
    "print(df.info()) #data info - original"
   ]
  },
  {
   "cell_type": "code",
   "execution_count": 7,
   "id": "b3b77563",
   "metadata": {},
   "outputs": [
    {
     "name": "stdout",
     "output_type": "stream",
     "text": [
      "Total Unique Sex Present: 2 \n",
      "\n",
      "male      676\n",
      "female    662\n",
      "Name: sex, dtype: int64\n"
     ]
    }
   ],
   "source": [
    "#checking for unique value in sex column with count of value.\n",
    "print(\"Total Unique Sex Present:\", df['sex'].nunique(),'\\n')\n",
    "print(df['sex'].value_counts())"
   ]
  },
  {
   "cell_type": "code",
   "execution_count": 8,
   "id": "3789fb10",
   "metadata": {},
   "outputs": [
    {
     "data": {
      "image/png": "[encoded data removed]",
      "text/plain": [
       "<Figure size 720x504 with 1 Axes>"
      ]
     },
     "metadata": {
      "needs_background": "light"
     },
     "output_type": "display_data"
    }
   ],
   "source": [
    "#value count of each unique value in sex column\n",
    "plt.figure(figsize=(10,7))\n",
    "sns.countplot(x='sex', data=df, palette='pastel')\n",
    "plt.title('Gender Count')\n",
    "plt.xlabel('Gender')\n",
    "plt.ylabel('Count')\n",
    "\n",
    "ax = sns.countplot(x='sex', data=df, palette='pastel')\n",
    "for p in ax.patches:\n",
    "    ax.annotate(f'{p.get_height()}', (p.get_x() + p.get_width() / 2., p.get_height()),\n",
    "                ha='center', va='center', xytext=(0, 10), textcoords='offset points')\n",
    "plt.show()\n"
   ]
  },
  {
   "cell_type": "code",
   "execution_count": 9,
   "id": "dc1ed90a",
   "metadata": {},
   "outputs": [
    {
     "data": {
      "image/png": "[encoded data removed]",
      "text/plain": [
       "<Figure size 720x432 with 1 Axes>"
      ]
     },
     "metadata": {
      "needs_background": "light"
     },
     "output_type": "display_data"
    }
   ],
   "source": [
    "# age distribution\n",
    "plt.figure(figsize=(10, 6))\n",
    "ax = sns.histplot(df['age'], bins=20, kde=True, color='skyblue')\n",
    "plt.title('Distribution of Age')\n",
    "plt.xlabel('Age')\n",
    "plt.ylabel('Frequency')\n",
    "\n",
    "for i in ax.patches:\n",
    "    ax.annotate(f'{int(i.get_height())}', (i.get_x() + i.get_width() / 2., i.get_height()),\n",
    "                ha='center', va='center', xytext=(0, 10), textcoords='offset points')\n",
    "\n",
    "plt.show()"
   ]
  },
  {
   "cell_type": "code",
   "execution_count": 10,
   "id": "0ae35155",
   "metadata": {},
   "outputs": [
    {
     "name": "stdout",
     "output_type": "stream",
     "text": [
      "no     1064\n",
      "yes     274\n",
      "Name: smoker, dtype: int64\n"
     ]
    }
   ],
   "source": [
    "#checking for count of each value in smoker column.\n",
    "print(df['smoker'].value_counts())"
   ]
  },
  {
   "cell_type": "code",
   "execution_count": 11,
   "id": "2adf213f",
   "metadata": {},
   "outputs": [
    {
     "data": {
      "image/png": "[encoded data removed]",
      "text/plain": [
       "<Figure size 576x360 with 1 Axes>"
      ]
     },
     "metadata": {
      "needs_background": "light"
     },
     "output_type": "display_data"
    }
   ],
   "source": [
    "#value count of each unique value in smoker\n",
    "plt.figure(figsize=(8, 5))\n",
    "sns.countplot(x='smoker', data=df, palette='Set2')\n",
    "plt.title('Count of Smokers and Non-Smokers')\n",
    "plt.xlabel('Smoker')\n",
    "plt.ylabel('Count')\n",
    "ax = sns.countplot(x='smoker', data=df, palette='pastel')\n",
    "for p in ax.patches:\n",
    "    ax.annotate(f'{p.get_height()}', (p.get_x() + p.get_width() / 2., p.get_height()),\n",
    "                ha='center', va='center', xytext=(0, 10), textcoords='offset points')\n",
    "plt.show()"
   ]
  },
  {
   "cell_type": "code",
   "execution_count": 12,
   "id": "965770ba",
   "metadata": {},
   "outputs": [
    {
     "data": {
      "image/png": "[encoded data removed]",
      "text/plain": [
       "<Figure size 720x432 with 1 Axes>"
      ]
     },
     "metadata": {
      "needs_background": "light"
     },
     "output_type": "display_data"
    }
   ],
   "source": [
    "#boxplot for charges based on smoker status\n",
    "plt.figure(figsize=(10, 6))\n",
    "sns.boxplot(x='smoker', y='charges', data=df, palette='viridis')\n",
    "plt.title('Distribution of Charges for Smokers and Non-Smokers')\n",
    "plt.xlabel('Smoker')\n",
    "plt.ylabel('Charges')\n",
    "plt.show()"
   ]
  },
  {
   "cell_type": "code",
   "execution_count": 13,
   "id": "b8ed6a9e",
   "metadata": {},
   "outputs": [
    {
     "name": "stdout",
     "output_type": "stream",
     "text": [
      "\u001b[1mOriginal Data Description:\n",
      "\u001b[0m\n",
      "               age          bmi     children       charges\n",
      "count  1338.000000  1338.000000  1338.000000   1338.000000\n",
      "mean     39.207025    30.663397     1.094918  13270.422265\n",
      "std      14.049960     6.098187     1.205493  12110.011237\n",
      "min      18.000000    15.960000     0.000000   1121.873900\n",
      "25%      27.000000    26.296250     0.000000   4740.287150\n",
      "50%      39.000000    30.400000     1.000000   9382.033000\n",
      "75%      51.000000    34.693750     2.000000  16639.912515\n",
      "max      64.000000    53.130000     5.000000  63770.428010\n"
     ]
    }
   ],
   "source": [
    "print_bold(\"Original Data Description:\\n\")\n",
    "print(df.describe())"
   ]
  },
  {
   "cell_type": "code",
   "execution_count": 14,
   "id": "43202804",
   "metadata": {},
   "outputs": [
    {
     "name": "stdout",
     "output_type": "stream",
     "text": [
      "southeast    364\n",
      "northwest    325\n",
      "southwest    325\n",
      "northeast    324\n",
      "Name: region, dtype: int64\n"
     ]
    }
   ],
   "source": [
    "print(df['region'].value_counts()) #count of each unique value present on the region column"
   ]
  },
  {
   "cell_type": "code",
   "execution_count": 15,
   "id": "97231f11",
   "metadata": {},
   "outputs": [
    {
     "name": "stdout",
     "output_type": "stream",
     "text": [
      "age         0\n",
      "sex         0\n",
      "bmi         0\n",
      "children    0\n",
      "smoker      0\n",
      "region      0\n",
      "charges     0\n",
      "dtype: int64\n"
     ]
    }
   ],
   "source": [
    "#Cheking for null value present in each column of the data.\n",
    "print(df.isnull().sum())"
   ]
  },
  {
   "cell_type": "markdown",
   "id": "9efa8648",
   "metadata": {},
   "source": [
    "# Step 2: Transformation on Data"
   ]
  },
  {
   "cell_type": "markdown",
   "id": "856f3ed4",
   "metadata": {},
   "source": [
    "Transformation encompasses diverse operations on the extracted data, and numerous tools and technologies are available\n",
    "for this phase. ETL tools like Apache Spark, Microsoft SSIS, and IBM InfoSphere offer powerful transformation capabilities,\n",
    "supporting data cleansing, enrichment, and aggregation. Programming languages such as Python and libraries like Pandas\n",
    "provide flexibility for custom transformations.\n",
    "\n",
    "Data quality tools like Trifacta and Talend Data Quality assist in ensuring\n",
    "high-quality transformations. Machine learning frameworks like TensorFlow or scikit-learn can be integrated for advanced\n",
    "data transformations. Cloud-based platforms such as Azure Data Factory and Google Cloud Dataprep also offer transformation\n",
    "services."
   ]
  },
  {
   "cell_type": "code",
   "execution_count": 16,
   "id": "22b6e9e1",
   "metadata": {},
   "outputs": [],
   "source": [
    "#mapping Sex column i.e. is Male with 0 and Female with 1 for making it numerical.\n",
    "df['sex'] = df['sex'].map({'male': 0, 'female': 1})"
   ]
  },
  {
   "cell_type": "code",
   "execution_count": 17,
   "id": "39792069",
   "metadata": {},
   "outputs": [],
   "source": [
    "#mapping Smoker column i.e. is no with 0 and yes with 1 for making it numerical.\n",
    "df['smoker'] = df['smoker'].map({'no': 0, 'yes': 1})"
   ]
  },
  {
   "cell_type": "code",
   "execution_count": 18,
   "id": "c631ba96",
   "metadata": {},
   "outputs": [
    {
     "name": "stdout",
     "output_type": "stream",
     "text": [
      "Total Unique Regions: 4\n",
      "Region Present in the Data: ['southwest', 'southeast', 'northwest', 'northeast']\n"
     ]
    }
   ],
   "source": [
    "#finding unique value present in the region column.\n",
    "print(\"Total Unique Regions:\", df['region'].nunique())\n",
    "#getting the list of unique region name.\n",
    "print(\"Region Present in the Data:\",df['region'].unique().tolist())"
   ]
  },
  {
   "cell_type": "code",
   "execution_count": 19,
   "id": "641a3167",
   "metadata": {},
   "outputs": [],
   "source": [
    "#using label encoder to assign numerical value to the element present in the region for better modelling.\n",
    "label_encoder = LabelEncoder()\n",
    "df['region_encoded'] = label_encoder.fit_transform(df['region'])"
   ]
  },
  {
   "cell_type": "code",
   "execution_count": 20,
   "id": "26d7ac2c",
   "metadata": {},
   "outputs": [],
   "source": [
    "#one hot encoding on region column for future analysis and better ML model performance\n",
    "df = pd.get_dummies(df, columns=['region'], prefix='region')\n",
    "df['region_encoded'] = df['region_encoded'].astype(np.int64)"
   ]
  },
  {
   "cell_type": "code",
   "execution_count": 21,
   "id": "9cab13b6",
   "metadata": {},
   "outputs": [
    {
     "name": "stdout",
     "output_type": "stream",
     "text": [
      "\u001b[1mMapping done on original region values to encoded values:\u001b[0m\n",
      "[('northeast', 0), ('northwest', 1), ('southeast', 2), ('southwest', 3)]\n"
     ]
    }
   ],
   "source": [
    "#getting the numericaly assigned value for each region present in the region column.\n",
    "region_mapping = list(zip(label_encoder.classes_, label_encoder.transform(label_encoder.classes_)))\n",
    "print_bold(\"Mapping done on original region values to encoded values:\")\n",
    "print(region_mapping)"
   ]
  },
  {
   "cell_type": "code",
   "execution_count": 22,
   "id": "85f0ccf8",
   "metadata": {},
   "outputs": [
    {
     "name": "stdout",
     "output_type": "stream",
     "text": [
      "\u001b[1mTransformed Data Table:\n",
      "\u001b[0m\n"
     ]
    },
    {
     "data": {
      "text/html": [
       "<div>\n",
       "<style scoped>\n",
       "    .dataframe tbody tr th:only-of-type {\n",
       "        vertical-align: middle;\n",
       "    }\n",
       "\n",
       "    .dataframe tbody tr th {\n",
       "        vertical-align: top;\n",
       "    }\n",
       "\n",
       "    .dataframe thead th {\n",
       "        text-align: right;\n",
       "    }\n",
       "</style>\n",
       "<table border=\"1\" class=\"dataframe\">\n",
       "  <thead>\n",
       "    <tr style=\"text-align: right;\">\n",
       "      <th></th>\n",
       "      <th>age</th>\n",
       "      <th>sex</th>\n",
       "      <th>bmi</th>\n",
       "      <th>children</th>\n",
       "      <th>smoker</th>\n",
       "      <th>charges</th>\n",
       "      <th>region_encoded</th>\n",
       "      <th>region_northeast</th>\n",
       "      <th>region_northwest</th>\n",
       "      <th>region_southeast</th>\n",
       "      <th>region_southwest</th>\n",
       "    </tr>\n",
       "  </thead>\n",
       "  <tbody>\n",
       "    <tr>\n",
       "      <th>0</th>\n",
       "      <td>19</td>\n",
       "      <td>1</td>\n",
       "      <td>27.900</td>\n",
       "      <td>0</td>\n",
       "      <td>1</td>\n",
       "      <td>16884.92400</td>\n",
       "      <td>3</td>\n",
       "      <td>0</td>\n",
       "      <td>0</td>\n",
       "      <td>0</td>\n",
       "      <td>1</td>\n",
       "    </tr>\n",
       "    <tr>\n",
       "      <th>1</th>\n",
       "      <td>18</td>\n",
       "      <td>0</td>\n",
       "      <td>33.770</td>\n",
       "      <td>1</td>\n",
       "      <td>0</td>\n",
       "      <td>1725.55230</td>\n",
       "      <td>2</td>\n",
       "      <td>0</td>\n",
       "      <td>0</td>\n",
       "      <td>1</td>\n",
       "      <td>0</td>\n",
       "    </tr>\n",
       "    <tr>\n",
       "      <th>2</th>\n",
       "      <td>28</td>\n",
       "      <td>0</td>\n",
       "      <td>33.000</td>\n",
       "      <td>3</td>\n",
       "      <td>0</td>\n",
       "      <td>4449.46200</td>\n",
       "      <td>2</td>\n",
       "      <td>0</td>\n",
       "      <td>0</td>\n",
       "      <td>1</td>\n",
       "      <td>0</td>\n",
       "    </tr>\n",
       "    <tr>\n",
       "      <th>3</th>\n",
       "      <td>33</td>\n",
       "      <td>0</td>\n",
       "      <td>22.705</td>\n",
       "      <td>0</td>\n",
       "      <td>0</td>\n",
       "      <td>21984.47061</td>\n",
       "      <td>1</td>\n",
       "      <td>0</td>\n",
       "      <td>1</td>\n",
       "      <td>0</td>\n",
       "      <td>0</td>\n",
       "    </tr>\n",
       "    <tr>\n",
       "      <th>4</th>\n",
       "      <td>32</td>\n",
       "      <td>0</td>\n",
       "      <td>28.880</td>\n",
       "      <td>0</td>\n",
       "      <td>0</td>\n",
       "      <td>3866.85520</td>\n",
       "      <td>1</td>\n",
       "      <td>0</td>\n",
       "      <td>1</td>\n",
       "      <td>0</td>\n",
       "      <td>0</td>\n",
       "    </tr>\n",
       "  </tbody>\n",
       "</table>\n",
       "</div>"
      ],
      "text/plain": [
       "   age  sex     bmi  children  smoker      charges  region_encoded  \\\n",
       "0   19    1  27.900         0       1  16884.92400               3   \n",
       "1   18    0  33.770         1       0   1725.55230               2   \n",
       "2   28    0  33.000         3       0   4449.46200               2   \n",
       "3   33    0  22.705         0       0  21984.47061               1   \n",
       "4   32    0  28.880         0       0   3866.85520               1   \n",
       "\n",
       "   region_northeast  region_northwest  region_southeast  region_southwest  \n",
       "0                 0                 0                 0                 1  \n",
       "1                 0                 0                 1                 0  \n",
       "2                 0                 0                 1                 0  \n",
       "3                 0                 1                 0                 0  \n",
       "4                 0                 1                 0                 0  "
      ]
     },
     "execution_count": 22,
     "metadata": {},
     "output_type": "execute_result"
    }
   ],
   "source": [
    "print_bold(\"Transformed Data Table:\\n\")\n",
    "df.head()"
   ]
  },
  {
   "cell_type": "markdown",
   "id": "ddf0697e",
   "metadata": {},
   "source": [
    "# Step 2B : Transformation Data Quality Check."
   ]
  },
  {
   "cell_type": "code",
   "execution_count": 23,
   "id": "9f8e8b9d",
   "metadata": {},
   "outputs": [
    {
     "name": "stdout",
     "output_type": "stream",
     "text": [
      "\u001b[1m\n",
      "Data Quality Check: Transformation logic verified. Data types and values are as expected.\u001b[0m\n",
      "\u001b[1m\n",
      "Transformed Data Info:\n",
      "\u001b[0m\n",
      "<class 'pandas.core.frame.DataFrame'>\n",
      "RangeIndex: 1338 entries, 0 to 1337\n",
      "Data columns (total 11 columns):\n",
      " #   Column            Non-Null Count  Dtype  \n",
      "---  ------            --------------  -----  \n",
      " 0   age               1338 non-null   int64  \n",
      " 1   sex               1338 non-null   int64  \n",
      " 2   bmi               1338 non-null   float64\n",
      " 3   children          1338 non-null   int64  \n",
      " 4   smoker            1338 non-null   int64  \n",
      " 5   charges           1338 non-null   float64\n",
      " 6   region_encoded    1338 non-null   int64  \n",
      " 7   region_northeast  1338 non-null   uint8  \n",
      " 8   region_northwest  1338 non-null   uint8  \n",
      " 9   region_southeast  1338 non-null   uint8  \n",
      " 10  region_southwest  1338 non-null   uint8  \n",
      "dtypes: float64(2), int64(5), uint8(4)\n",
      "memory usage: 78.5 KB\n",
      "None\n"
     ]
    }
   ],
   "source": [
    "#expected data types for the transformed Data\n",
    "expected_data_types = {\n",
    "    'age': np.int64,\n",
    "    'sex': np.int64,\n",
    "    'bmi': np.float64,\n",
    "    'children': np.int64,\n",
    "    'smoker': np.int64,\n",
    "    'charges': np.float64,\n",
    "    'region_encoded': np.int64,\n",
    "    'region_northeast': np.uint8,\n",
    "    'region_northwest': np.uint8,\n",
    "    'region_southeast': np.uint8,\n",
    "    'region_southwest': np.uint8\n",
    "}\n",
    "\n",
    "data_types_check = df.dtypes.to_dict() == expected_data_types #comparison\n",
    "\n",
    "sex_smoker_check = (df['sex'].isin([0, 1]).all()) and (df['smoker'].isin([0, 1]).all())\n",
    "\n",
    "# data quality check\n",
    "if data_types_check and sex_smoker_check:\n",
    "    print_bold(\"\\nData Quality Check: Transformation logic verified. Data types and values are as expected.\")\n",
    "    print_bold(\"\\nTransformed Data Info:\\n\")\n",
    "    print(df.info())\n",
    "    \n",
    "else:\n",
    "    print_bold(\"\\nData Quality Check: Transformation logic verification failed. Check data types and values.\")\n",
    "    \n"
   ]
  },
  {
   "cell_type": "markdown",
   "id": "871f5689",
   "metadata": {},
   "source": [
    "# Step 3: Loading data into desired storage."
   ]
  },
  {
   "cell_type": "markdown",
   "id": "fb3cd53d",
   "metadata": {},
   "source": [
    "Loading transformed data into target systems involves various tools and technologies. ETL tools like Apache NiFi and\n",
    "Talend provide functionalities for designing efficient loading workflows. Relational database management systems (RDBMS)\n",
    "such as PostgreSQL, MySQL, and SQL Server offer mechanisms for bulk loading and transaction management. NoSQL databases\n",
    "like MongoDB and cloud-based data warehouses like Amazon Redshift and Google BigQuery support optimized loading strategies."
   ]
  },
  {
   "cell_type": "code",
   "execution_count": 24,
   "id": "4e6d59d9",
   "metadata": {},
   "outputs": [
    {
     "name": "stdout",
     "output_type": "stream",
     "text": [
      "\u001b[1mThe transformed file with the name \"transformed_insurance.csv\" is being saved successfully on desired location.\u001b[0m\n"
     ]
    }
   ],
   "source": [
    "#Storing value into the assingned local storage.\n",
    "\n",
    "#uncomment below line to save data in the local storage.\n",
    "#df.to_csv('transformed_insurance.csv', index=False)\n",
    "print_bold('The transformed file with the name \"transformed_insurance.csv\" is being saved successfully on desired location.')"
   ]
  },
  {
   "cell_type": "markdown",
   "id": "d3f6d7f4",
   "metadata": {},
   "source": [
    "# Creating Server Connection to load transformed data into local SQL server for future desired operation."
   ]
  },
  {
   "cell_type": "code",
   "execution_count": 25,
   "id": "c4db4ca2",
   "metadata": {},
   "outputs": [],
   "source": [
    "import sqlalchemy"
   ]
  },
  {
   "cell_type": "code",
   "execution_count": 26,
   "id": "3714fb29",
   "metadata": {},
   "outputs": [
    {
     "name": "stdout",
     "output_type": "stream",
     "text": [
      "\u001b[1mServer Connection Established\u001b[0m\n"
     ]
    }
   ],
   "source": [
    "#providing neccesary information required to connect with server\n",
    "server_name = 'LAPTOP-SAMIR\\SQLEXPRESS'\n",
    "database_name = 'Wednesday'\n",
    "trans_table = \"transformed_insurance\"  #table name of the data\n",
    "\n",
    "connection_string = f'mssql+pyodbc://@{server_name}/{database_name}?driver=ODBC+Driver+17+for+SQL+Server&trusted_connection=yes'\n",
    "\n",
    "print_bold(\"Server Connection Established\")"
   ]
  },
  {
   "cell_type": "code",
   "execution_count": 27,
   "id": "4520e4ea",
   "metadata": {},
   "outputs": [
    {
     "name": "stdout",
     "output_type": "stream",
     "text": [
      "\u001b[1mAction Completed: The transformed_insurance data table is being added to the SQL server under the database Wednesday.\n",
      "\u001b[0m\n"
     ]
    }
   ],
   "source": [
    "df.to_sql(name= trans_table, con=connection_string, if_exists='replace', index=False) #sending request to server\n",
    "\n",
    "print_bold(f'Action Completed: The {trans_table} data table is being added to the SQL server under the database {database_name}.\\n')"
   ]
  },
  {
   "cell_type": "code",
   "execution_count": 28,
   "id": "5ff54982",
   "metadata": {},
   "outputs": [
    {
     "name": "stdout",
     "output_type": "stream",
     "text": [
      "   age  sex     bmi  smoker      charges\n",
      "0   19    1  27.900       1  16884.92400\n",
      "1   18    0  33.770       0   1725.55230\n",
      "2   28    0  33.000       0   4449.46200\n",
      "3   33    0  22.705       0  21984.47061\n",
      "4   32    0  28.880       0   3866.85520\n"
     ]
    }
   ],
   "source": [
    "#sending test query for the uploaded data on the server\n",
    "query = \"SELECT age, sex, bmi, smoker, charges FROM transformed_insurance\"\n",
    "query_result = pd.read_sql(query, con=connection_string)\n",
    "print(query_result.head())"
   ]
  },
  {
   "cell_type": "markdown",
   "id": "82e7f457",
   "metadata": {},
   "source": [
    "Note: Server connection needs to be closed after a successful operation to avoid any data loss, to protect overwrite, etc. based on the server used."
   ]
  },
  {
   "cell_type": "markdown",
   "id": "7d2c8769",
   "metadata": {},
   "source": [
    "# ETL Ends Here"
   ]
  },
  {
   "cell_type": "markdown",
   "id": "fbdebc5d",
   "metadata": {},
   "source": [
    "# Task - Data Analysis Using SQL."
   ]
  },
  {
   "cell_type": "markdown",
   "id": "fb043055",
   "metadata": {},
   "source": [
    "Using pandas data frame to get insight from the data using SQL, SQL query is being supported on pandas dataframe using\n",
    "pandasql library.\n",
    "\n",
    "We can also transfer this data into SQL database using several libraries to perform analysis in SQL studio in\n",
    "this method server configuration is required which is supported by the library."
   ]
  },
  {
   "cell_type": "code",
   "execution_count": 29,
   "id": "9e05b58f",
   "metadata": {},
   "outputs": [],
   "source": [
    "import pandasql as ps"
   ]
  },
  {
   "cell_type": "code",
   "execution_count": 30,
   "id": "e08ea224",
   "metadata": {},
   "outputs": [
    {
     "data": {
      "text/html": [
       "<div>\n",
       "<style scoped>\n",
       "    .dataframe tbody tr th:only-of-type {\n",
       "        vertical-align: middle;\n",
       "    }\n",
       "\n",
       "    .dataframe tbody tr th {\n",
       "        vertical-align: top;\n",
       "    }\n",
       "\n",
       "    .dataframe thead th {\n",
       "        text-align: right;\n",
       "    }\n",
       "</style>\n",
       "<table border=\"1\" class=\"dataframe\">\n",
       "  <thead>\n",
       "    <tr style=\"text-align: right;\">\n",
       "      <th></th>\n",
       "      <th>age</th>\n",
       "      <th>sex</th>\n",
       "      <th>bmi</th>\n",
       "      <th>children</th>\n",
       "      <th>smoker</th>\n",
       "      <th>region</th>\n",
       "      <th>charges</th>\n",
       "    </tr>\n",
       "  </thead>\n",
       "  <tbody>\n",
       "    <tr>\n",
       "      <th>0</th>\n",
       "      <td>19</td>\n",
       "      <td>female</td>\n",
       "      <td>27.900</td>\n",
       "      <td>0</td>\n",
       "      <td>yes</td>\n",
       "      <td>southwest</td>\n",
       "      <td>16884.92400</td>\n",
       "    </tr>\n",
       "    <tr>\n",
       "      <th>1</th>\n",
       "      <td>18</td>\n",
       "      <td>male</td>\n",
       "      <td>33.770</td>\n",
       "      <td>1</td>\n",
       "      <td>no</td>\n",
       "      <td>southeast</td>\n",
       "      <td>1725.55230</td>\n",
       "    </tr>\n",
       "    <tr>\n",
       "      <th>2</th>\n",
       "      <td>28</td>\n",
       "      <td>male</td>\n",
       "      <td>33.000</td>\n",
       "      <td>3</td>\n",
       "      <td>no</td>\n",
       "      <td>southeast</td>\n",
       "      <td>4449.46200</td>\n",
       "    </tr>\n",
       "    <tr>\n",
       "      <th>3</th>\n",
       "      <td>33</td>\n",
       "      <td>male</td>\n",
       "      <td>22.705</td>\n",
       "      <td>0</td>\n",
       "      <td>no</td>\n",
       "      <td>northwest</td>\n",
       "      <td>21984.47061</td>\n",
       "    </tr>\n",
       "    <tr>\n",
       "      <th>4</th>\n",
       "      <td>32</td>\n",
       "      <td>male</td>\n",
       "      <td>28.880</td>\n",
       "      <td>0</td>\n",
       "      <td>no</td>\n",
       "      <td>northwest</td>\n",
       "      <td>3866.85520</td>\n",
       "    </tr>\n",
       "  </tbody>\n",
       "</table>\n",
       "</div>"
      ],
      "text/plain": [
       "   age     sex     bmi  children smoker     region      charges\n",
       "0   19  female  27.900         0    yes  southwest  16884.92400\n",
       "1   18    male  33.770         1     no  southeast   1725.55230\n",
       "2   28    male  33.000         3     no  southeast   4449.46200\n",
       "3   33    male  22.705         0     no  northwest  21984.47061\n",
       "4   32    male  28.880         0     no  northwest   3866.85520"
      ]
     },
     "execution_count": 30,
     "metadata": {},
     "output_type": "execute_result"
    }
   ],
   "source": [
    "data.head() #first 5 rows of the data"
   ]
  },
  {
   "cell_type": "code",
   "execution_count": 31,
   "id": "c76cb964",
   "metadata": {},
   "outputs": [
    {
     "name": "stdout",
     "output_type": "stream",
     "text": [
      "<class 'pandas.core.frame.DataFrame'>\n",
      "RangeIndex: 1338 entries, 0 to 1337\n",
      "Data columns (total 7 columns):\n",
      " #   Column    Non-Null Count  Dtype  \n",
      "---  ------    --------------  -----  \n",
      " 0   age       1338 non-null   int64  \n",
      " 1   sex       1338 non-null   object \n",
      " 2   bmi       1338 non-null   float64\n",
      " 3   children  1338 non-null   int64  \n",
      " 4   smoker    1338 non-null   object \n",
      " 5   region    1338 non-null   object \n",
      " 6   charges   1338 non-null   float64\n",
      "dtypes: float64(2), int64(2), object(3)\n",
      "memory usage: 73.3+ KB\n"
     ]
    }
   ],
   "source": [
    "data.info() #data info - orginal"
   ]
  },
  {
   "cell_type": "markdown",
   "id": "de54bab1",
   "metadata": {},
   "source": [
    "Using orginal data for analysis using SQL purposely."
   ]
  },
  {
   "cell_type": "markdown",
   "id": "3e1eb600",
   "metadata": {},
   "source": [
    "# Query - 1 : "
   ]
  },
  {
   "cell_type": "code",
   "execution_count": 32,
   "id": "ae1c93e3",
   "metadata": {},
   "outputs": [
    {
     "name": "stdout",
     "output_type": "stream",
     "text": [
      "Output:\n",
      "\n",
      "    age     sex     bmi  children smoker     region      charges\n",
      "0   19  female  27.900         0    yes  southwest  16884.92400\n",
      "1   18    male  33.770         1     no  southeast   1725.55230\n",
      "2   28    male  33.000         3     no  southeast   4449.46200\n",
      "3   33    male  22.705         0     no  northwest  21984.47061\n",
      "4   32    male  28.880         0     no  northwest   3866.85520\n"
     ]
    }
   ],
   "source": [
    "#view table for the data df\n",
    "table = \"\"\"\n",
    "    SELECT * FROM data;\n",
    "\"\"\"\n",
    "\n",
    "result_table = ps.sqldf(table, locals())\n",
    "print(\"Output:\\n\\n\",result_table.head())"
   ]
  },
  {
   "cell_type": "markdown",
   "id": "c7a34410",
   "metadata": {},
   "source": [
    "# Query - 2 : "
   ]
  },
  {
   "cell_type": "code",
   "execution_count": 33,
   "id": "93dbbb11",
   "metadata": {},
   "outputs": [
    {
     "name": "stdout",
     "output_type": "stream",
     "text": [
      "   age  count\n",
      "0   18     69\n",
      "1   19     68\n",
      "2   52     29\n",
      "3   51     29\n",
      "4   50     29\n"
     ]
    }
   ],
   "source": [
    "#top 5 age which have maximum individual.\n",
    "query_age_distribution = \"\"\"\n",
    "    SELECT\n",
    "        age,\n",
    "        COUNT(*) AS count\n",
    "    FROM\n",
    "        data\n",
    "    GROUP BY\n",
    "        age\n",
    "    ORDER BY\n",
    "        count DESC\n",
    "    LIMIT 5;\n",
    "\"\"\"\n",
    "\n",
    "result_query_age_distribution = ps.sqldf(query_age_distribution, locals())\n",
    "print(result_query_age_distribution)\n"
   ]
  },
  {
   "cell_type": "markdown",
   "id": "0519dceb",
   "metadata": {},
   "source": [
    "# Query - 3 : "
   ]
  },
  {
   "cell_type": "code",
   "execution_count": 34,
   "id": "00c4106e",
   "metadata": {},
   "outputs": [
    {
     "name": "stdout",
     "output_type": "stream",
     "text": [
      "Output:\n",
      "\n",
      "       region   avg_charges\n",
      "0  northeast  13406.384516\n",
      "1  northwest  12417.575374\n",
      "2  southeast  14735.411438\n",
      "3  southwest  12346.937377\n"
     ]
    }
   ],
   "source": [
    "#Find the average charges for each region:\n",
    "query_avg_charges_region = \"\"\"\n",
    "    SELECT\n",
    "        region,\n",
    "        AVG(charges) AS avg_charges\n",
    "    FROM\n",
    "        data\n",
    "    GROUP BY\n",
    "        region;\n",
    "\"\"\"\n",
    "\n",
    "result_avg_charges_region = ps.sqldf(query_avg_charges_region, locals())\n",
    "print(\"Output:\\n\\n\",result_avg_charges_region)"
   ]
  },
  {
   "cell_type": "markdown",
   "id": "52aad1a8",
   "metadata": {},
   "source": [
    "# Query - 4 : "
   ]
  },
  {
   "cell_type": "code",
   "execution_count": 35,
   "id": "2a16060e",
   "metadata": {},
   "outputs": [
    {
     "name": "stdout",
     "output_type": "stream",
     "text": [
      "Output:\n",
      "\n",
      "   smoker   avg_charges\n",
      "0     no   8434.268298\n",
      "1    yes  32050.231832\n"
     ]
    }
   ],
   "source": [
    "#Find the average charges for smokers and non-smokers:\n",
    "query_avg_charges_smoker = \"\"\"\n",
    "    SELECT\n",
    "        smoker,\n",
    "        AVG(charges) AS avg_charges\n",
    "    FROM\n",
    "        data\n",
    "    GROUP BY\n",
    "        smoker;\n",
    "\"\"\"\n",
    "\n",
    "result_avg_charges_smoker = ps.sqldf(query_avg_charges_smoker, locals())\n",
    "print(\"Output:\\n\\n\",result_avg_charges_smoker)"
   ]
  },
  {
   "cell_type": "markdown",
   "id": "192be3f5",
   "metadata": {},
   "source": [
    "# Query - 5 : "
   ]
  },
  {
   "cell_type": "code",
   "execution_count": 36,
   "id": "f1c17d4b",
   "metadata": {},
   "outputs": [
    {
     "name": "stdout",
     "output_type": "stream",
     "text": [
      "Output:\n",
      "\n",
      "   smoker     sex   avg_charges\n",
      "0     no  female   8762.297300\n",
      "1     no    male   8087.204731\n",
      "2    yes  female  30678.996276\n",
      "3    yes    male  33042.005975\n"
     ]
    }
   ],
   "source": [
    "#Average Charges by Smoking Status and Gender:\n",
    "query_avg_charges_by_smoking_gender = \"\"\"\n",
    "    SELECT\n",
    "        smoker,\n",
    "        sex,\n",
    "        AVG(charges) AS avg_charges\n",
    "    FROM\n",
    "        data\n",
    "    GROUP BY\n",
    "        smoker, sex;\n",
    "\"\"\"\n",
    "result_query_avg_charges_by_smoking_gender = ps.sqldf(query_avg_charges_by_smoking_gender, locals())\n",
    "print(\"Output:\\n\\n\",result_query_avg_charges_by_smoking_gender)"
   ]
  },
  {
   "cell_type": "markdown",
   "id": "e9386f5c",
   "metadata": {},
   "source": [
    "# Query - 6 : "
   ]
  },
  {
   "cell_type": "code",
   "execution_count": 37,
   "id": "e9463fe4",
   "metadata": {},
   "outputs": [
    {
     "name": "stdout",
     "output_type": "stream",
     "text": [
      "Output:\n",
      "\n",
      "       region smoker  count\n",
      "0  northeast     no    257\n",
      "1  northeast    yes     67\n",
      "2  northwest     no    267\n",
      "3  northwest    yes     58\n",
      "4  southeast     no    273\n",
      "5  southeast    yes     91\n",
      "6  southwest     no    267\n",
      "7  southwest    yes     58\n"
     ]
    }
   ],
   "source": [
    "#Find the total number of smokers and non-smokers in each region:\n",
    "query_smoker_count_region = \"\"\"\n",
    "    SELECT\n",
    "        region,\n",
    "        smoker,\n",
    "        COUNT(*) AS count\n",
    "    FROM\n",
    "        data\n",
    "    GROUP BY\n",
    "        region, smoker;\n",
    "\"\"\"\n",
    "\n",
    "result_smoker_count_region = ps.sqldf(query_smoker_count_region, locals())\n",
    "print(\"Output:\\n\\n\",result_smoker_count_region)"
   ]
  },
  {
   "cell_type": "markdown",
   "id": "101d9d40",
   "metadata": {},
   "source": [
    "# Query - 7 : "
   ]
  },
  {
   "cell_type": "code",
   "execution_count": 38,
   "id": "1c08cd1a",
   "metadata": {},
   "outputs": [
    {
     "name": "stdout",
     "output_type": "stream",
     "text": [
      "Output:\n",
      "\n",
      "       sex    avg_bmi\n",
      "0  female  30.377749\n",
      "1    male  30.943129\n"
     ]
    }
   ],
   "source": [
    "#Find the average BMI for each sex:\n",
    "query_avg_bmi_sex = \"\"\"\n",
    "    SELECT\n",
    "        sex,\n",
    "        AVG(bmi) AS avg_bmi\n",
    "    FROM\n",
    "        data\n",
    "    GROUP BY\n",
    "        sex;\n",
    "\"\"\"\n",
    "\n",
    "result_avg_bmi_sex = ps.sqldf(query_avg_bmi_sex, locals())\n",
    "print(\"Output:\\n\\n\",result_avg_bmi_sex)"
   ]
  },
  {
   "cell_type": "markdown",
   "id": "0ef13ea6",
   "metadata": {},
   "source": [
    "# Query - 8 : "
   ]
  },
  {
   "cell_type": "code",
   "execution_count": 39,
   "id": "70b39529",
   "metadata": {},
   "outputs": [
    {
     "name": "stdout",
     "output_type": "stream",
     "text": [
      "Output:\n",
      "\n",
      "    children   avg_charges\n",
      "0         0  12365.975602\n",
      "1         1  12731.171832\n",
      "2         2  15073.563734\n",
      "3         3  15355.318367\n",
      "4         4  13850.656311\n",
      "5         5   8786.035247\n"
     ]
    }
   ],
   "source": [
    "#Find the average charges for individuals with and without children:\n",
    "query_avg_charges_children = \"\"\"\n",
    "    SELECT\n",
    "        children,\n",
    "        AVG(charges) AS avg_charges\n",
    "    FROM\n",
    "        data\n",
    "    GROUP BY\n",
    "        children;\n",
    "\"\"\"\n",
    "\n",
    "result_avg_charges_children = ps.sqldf(query_avg_charges_children, locals())\n",
    "print(\"Output:\\n\\n\",result_avg_charges_children)"
   ]
  },
  {
   "cell_type": "markdown",
   "id": "212b6a7d",
   "metadata": {},
   "source": [
    "# Query - 9 : "
   ]
  },
  {
   "cell_type": "code",
   "execution_count": 40,
   "id": "8a098762",
   "metadata": {},
   "outputs": [
    {
     "name": "stdout",
     "output_type": "stream",
     "text": [
      "Output:\n",
      "\n",
      "       sex smoker    avg_bmi   avg_charges    avg_age\n",
      "0  female     no  30.539525   8762.297300  39.691042\n",
      "1  female    yes  29.608261  30678.996276  38.608696\n",
      "2    male     no  30.770580   8087.204731  39.061896\n",
      "3    male    yes  31.504182  33042.005975  38.446541\n"
     ]
    }
   ],
   "source": [
    "#Find the average BMI and charges for each combination of sex and smoker status:\n",
    "query_avg_bmi_charges_sex_smoker = \"\"\"\n",
    "    SELECT\n",
    "        sex,\n",
    "        smoker,\n",
    "        AVG(bmi) AS avg_bmi,\n",
    "        AVG(charges) AS avg_charges,\n",
    "        AVG(age) as avg_age\n",
    "    FROM\n",
    "        data\n",
    "    GROUP BY\n",
    "        sex, smoker;\n",
    "\"\"\"\n",
    "\n",
    "result_avg_bmi_charges_sex_smoker = ps.sqldf(query_avg_bmi_charges_sex_smoker, locals())\n",
    "print(\"Output:\\n\\n\",result_avg_bmi_charges_sex_smoker)"
   ]
  },
  {
   "cell_type": "markdown",
   "id": "2ac9fd54",
   "metadata": {},
   "source": [
    "# Query - 10 : "
   ]
  },
  {
   "cell_type": "code",
   "execution_count": 41,
   "id": "c162c69f",
   "metadata": {},
   "outputs": [
    {
     "name": "stdout",
     "output_type": "stream",
     "text": [
      "Output:\n",
      "\n",
      "     children smoker   avg_charges\n",
      "0          0     no   7611.793335\n",
      "1          0    yes  31341.363954\n",
      "2          1     no   8303.109350\n",
      "3          1    yes  31822.654334\n",
      "4          2     no   9493.093674\n",
      "5          2    yes  33844.235755\n",
      "6          3     no   9614.519391\n",
      "7          3    yes  32724.915268\n",
      "8          4     no  12121.344408\n",
      "9          4    yes  26532.276933\n",
      "10         5     no   8183.845556\n",
      "11         5    yes  19023.260000\n"
     ]
    }
   ],
   "source": [
    "#Determine the average charges for individuals with different numbers of children, grouped by smoker status:\n",
    "query_avg_charges_children_smoker = \"\"\"\n",
    "    SELECT\n",
    "        children,\n",
    "        smoker,\n",
    "        AVG(charges) AS avg_charges\n",
    "    FROM\n",
    "        data\n",
    "    GROUP BY\n",
    "        children, smoker;\n",
    "\"\"\"\n",
    "\n",
    "result_avg_charges_children_smoker = ps.sqldf(query_avg_charges_children_smoker, locals())\n",
    "print(\"Output:\\n\\n\",result_avg_charges_children_smoker)"
   ]
  },
  {
   "cell_type": "markdown",
   "id": "af8cf38e",
   "metadata": {},
   "source": [
    "# Query - 11 : "
   ]
  },
  {
   "cell_type": "code",
   "execution_count": 42,
   "id": "45b964dc",
   "metadata": {},
   "outputs": [
    {
     "name": "stdout",
     "output_type": "stream",
     "text": [
      "Output:\n",
      "\n",
      "    age     sex     bmi  children smoker     region      charges\n",
      "0   54  female  47.410         0    yes  southeast  63770.42801\n",
      "1   45    male  30.360         0    yes  southeast  62592.87309\n",
      "2   52    male  34.485         3    yes  northwest  60021.39897\n",
      "3   31  female  38.095         1    yes  northeast  58571.07448\n",
      "4   33  female  35.530         0    yes  northwest  55135.40209\n"
     ]
    }
   ],
   "source": [
    "#Find the top 5 individuals with the highest charges:\n",
    "query_top5_highest_charges = \"\"\"\n",
    "    SELECT\n",
    "        *\n",
    "    FROM\n",
    "        data\n",
    "    ORDER BY\n",
    "        charges DESC\n",
    "    LIMIT 5;\n",
    "\"\"\"\n",
    "\n",
    "result_top5_highest_charges = ps.sqldf(query_top5_highest_charges, locals())\n",
    "print(\"Output:\\n\\n\",result_top5_highest_charges)"
   ]
  },
  {
   "cell_type": "markdown",
   "id": "e222e054",
   "metadata": {},
   "source": [
    "# Query - 12 : "
   ]
  },
  {
   "cell_type": "code",
   "execution_count": 43,
   "id": "72b84a84",
   "metadata": {},
   "outputs": [
    {
     "name": "stdout",
     "output_type": "stream",
     "text": [
      "Output:\n",
      "\n",
      "       region  age     sex     bmi  children smoker      charges\n",
      "0  northeast   31  female  38.095         1    yes  58571.07448\n",
      "1  northeast   54    male  40.565         3    yes  48549.17835\n",
      "2  northwest   52    male  34.485         3    yes  60021.39897\n",
      "3  northwest   33  female  35.530         0    yes  55135.40209\n",
      "4  southeast   54  female  47.410         0    yes  63770.42801\n",
      "5  southeast   45    male  30.360         0    yes  62592.87309\n",
      "6  southwest   60    male  32.800         0    yes  52590.82939\n",
      "7  southwest   28    male  36.400         1    yes  51194.55914\n"
     ]
    }
   ],
   "source": [
    "#top 2 individuals from each region with the highest charges\n",
    "query_top2_highest_charges_per_region = \"\"\"\n",
    "    SELECT region,\n",
    "        age,\n",
    "        sex,\n",
    "        bmi,\n",
    "        children,\n",
    "        smoker,\n",
    "        charges\n",
    "    FROM (\n",
    "        SELECT * ,\n",
    "            ROW_NUMBER() OVER (PARTITION BY region ORDER BY charges DESC) AS row_num\n",
    "        FROM\n",
    "            data\n",
    "    ) ranked\n",
    "    WHERE\n",
    "        row_num <= 2\n",
    "    ORDER BY\n",
    "        region, row_num;\n",
    "\"\"\"\n",
    "\n",
    "result_top2_highest_charges_per_region = ps.sqldf(query_top2_highest_charges_per_region, locals())\n",
    "print(\"Output:\\n\\n\",result_top2_highest_charges_per_region)"
   ]
  },
  {
   "cell_type": "markdown",
   "id": "3d95ddbf",
   "metadata": {},
   "source": [
    "# Task Ends Here"
   ]
  }
 ],
 "metadata": {
  "kernelspec": {
   "display_name": "Python 3",
   "language": "python",
   "name": "python3"
  },
  "language_info": {
   "codemirror_mode": {
    "name": "ipython",
    "version": 3
   },
   "file_extension": ".py",
   "mimetype": "text/x-python",
   "name": "python",
   "nbconvert_exporter": "python",
   "pygments_lexer": "ipython3",
   "version": "3.8.8"
  }
 },
 "nbformat": 4,
 "nbformat_minor": 5
}
